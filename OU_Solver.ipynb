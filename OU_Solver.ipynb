{
  "cells": [
    {
      "cell_type": "markdown",
      "metadata": {
        "id": "view-in-github",
        "colab_type": "text"
      },
      "source": [
        "<a href=\"https://colab.research.google.com/github/sjiang23/senbaojiang.github.io/blob/main/OU_Solver.ipynb\" target=\"_parent\"><img src=\"https://colab.research.google.com/assets/colab-badge.svg\" alt=\"Open In Colab\"/></a>"
      ]
    },
    {
      "cell_type": "markdown",
      "metadata": {
        "id": "y7EgYOwGi0M6"
      },
      "source": [
        "<!-- # Difference with others:\n",
        "\n",
        "FP equation for $dX_t = -\\epsilon X_tdt + dL_t$ with absorbing boundary condition. -->"
      ]
    },
    {
      "cell_type": "code",
      "execution_count": null,
      "metadata": {
        "id": "KC2MWoZ4ZfOR"
      },
      "outputs": [],
      "source": [
        "import jax.numpy as jnp\n",
        "import jax.scipy as jsp\n",
        "from jax import grad, jit, vmap, jacobian, hessian, jacrev, pmap, lax\n",
        "from jax import random\n",
        "from jax.scipy import optimize\n",
        "from jax.example_libraries import optimizers\n",
        "import matplotlib.pyplot as plt\n",
        "from matplotlib import cm\n",
        "from jax.flatten_util import ravel_pytree\n",
        "from functools import partial\n",
        "import numpy as np\n",
        "import scipy as sp\n",
        "import seaborn as sns\n",
        "from tqdm import tqdm\n",
        "import time\n",
        "import itertools\n",
        "import plotly.graph_objects as go\n",
        "import datetime"
      ]
    },
    {
      "cell_type": "code",
      "execution_count": null,
      "metadata": {
        "id": "fBBhEFY25jGe"
      },
      "outputs": [],
      "source": [
        "pip install -U kaleido plotly==5.5.0"
      ]
    },
    {
      "cell_type": "code",
      "execution_count": null,
      "metadata": {
        "id": "QJf2HEnWQHPX"
      },
      "outputs": [],
      "source": [
        "from google.colab import drive\n",
        "drive.mount('/content/drive')"
      ]
    },
    {
      "cell_type": "markdown",
      "metadata": {
        "id": "dxeO6mfYZq52"
      },
      "source": [
        "# Parameters, functions"
      ]
    },
    {
      "cell_type": "code",
      "execution_count": null,
      "metadata": {
        "id": "HPOVETTkZp05"
      },
      "outputs": [],
      "source": [
        "def random_layer_params(m, n, key):\n",
        "  # Glorot Initialization\n",
        "  W_key, b_key = random.split(key, 2)\n",
        "  return  random.uniform(W_key, shape = (m, n), minval = -jnp.sqrt(6./(n+m)), maxval = jnp.sqrt(6./(n+m))), \\\n",
        "          random.uniform(b_key, shape = (n,), minval = -jnp.sqrt(6./(n+m)), maxval = jnp.sqrt(6./(n+m)))\n",
        "\n",
        "def init_network_params(sizes, key):\n",
        "  # sizes[0] == d+1 !!!\n",
        "  keys = random.split(key, len(sizes))\n",
        "  return [random_layer_params(m, n, k) for m, n, k in zip(sizes[:-1], sizes[1:], keys)]\n"
      ]
    },
    {
      "cell_type": "code",
      "execution_count": null,
      "metadata": {
        "id": "8784e9eb"
      },
      "outputs": [],
      "source": [
        "def sigmoid(x):\n",
        "  return 1./(1 + jnp.exp(-x))\n",
        "\n",
        "def relu(x):\n",
        "  return jnp.maximum(x, 0)\n",
        "\n",
        "def init_cond(x1, x2):\n",
        "  return (315/256)**2 * ( (1 - x1**2) * (1 - x2**2) )**4"
      ]
    },
    {
      "cell_type": "code",
      "execution_count": null,
      "metadata": {
        "id": "39903070"
      },
      "outputs": [],
      "source": [
        "@jit\n",
        "def uNN(params, t, x1, x2):\n",
        "  '''\n",
        "  inputs: t, x1, x2: scalars/1D\n",
        "  output: 1D\n",
        "  '''\n",
        "  # First hidden layer\n",
        "  W, b = params[0]\n",
        "  output = jnp.outer(t, W[0]) + jnp.outer(x1, W[1]) + jnp.outer(x2, W[2]) + b\n",
        "  activation = sigmoid(output)\n",
        "  # Other hidden layers\n",
        "  for W, b in params[1:]:\n",
        "    output = jnp.dot(activation, W) + b\n",
        "    activation = sigmoid(output)\n",
        "  # Impose boundary/ic condition\n",
        "  output = (1 - jnp.exp(-t)) * jnp.sqrt((1 - x1**2) * (1 - x2**2)) * jnp.ravel(output - b) \\\n",
        "  + init_cond(x1, x2) # -b to get rid of last b in output\n",
        "\n",
        "  return jnp.squeeze(output)\n"
      ]
    },
    {
      "cell_type": "code",
      "execution_count": null,
      "metadata": {
        "id": "bd754f17"
      },
      "outputs": [],
      "source": [
        "def levy_const(alpha):\n",
        "    return 2**(alpha-1) * alpha * sp.special.gamma((2+alpha)/2) \\\n",
        "        /( jnp.pi**(2/2) * sp.special.gamma(1 - alpha/2) )"
      ]
    },
    {
      "cell_type": "code",
      "execution_count": null,
      "metadata": {
        "id": "OJdVgtCEaB6E"
      },
      "outputs": [],
      "source": [
        "@jit\n",
        "def discrete_part(params, t, x1, x2):\n",
        "  # meshgrid\n",
        "  D = jnp.sqrt((Y1 - x1)**2 + (Y2 - x2)**2)**(2 + alpha)\n",
        "  D = D.at[0,:].multiply(2)\n",
        "  D = D.at[-1,:].multiply(2)\n",
        "  D = D.at[:,0].multiply(2)\n",
        "  D = D.at[:,-1].multiply(2)\n",
        "  D = jnp.where(D == 0, jnp.inf, D)\n",
        "\n",
        "  # Trapezoidal rule summation with boundary correction\n",
        "  trapz = h**2 * jnp.sum( ( uNN(params, t, x1, x2) - uNN(params, t, jnp.ravel(Y1), jnp.ravel(Y2)) ) * jnp.ravel(1./D) ) \n",
        "\n",
        "  # singularity correction\n",
        "  trapz = trapz - omega0/2 * h**(2-alpha) * (grad(grad(uNN,2),2)(params, t, x1, x2) \\\n",
        "                                             + grad(grad(uNN,3),3)(params, t, x1, x2))\n",
        " \n",
        "  return trapz"
      ]
    },
    {
      "cell_type": "code",
      "execution_count": null,
      "metadata": {
        "id": "drKVI-x7dUUt"
      },
      "outputs": [],
      "source": [
        "def analytical_part(x1, x2):\n",
        "\n",
        "  H1 = sp.special.hyp2f1(1/2, (2. + alpha)/2, 3/2, -((1. - x2)/(1. + x1))**2 )\n",
        "  \n",
        "  H2 = sp.special.hyp2f1((1. + alpha)/2, (2. + alpha)/2, (3. + alpha)/2, -((1. - x2)/(1. + x1))**2 )\n",
        "  \n",
        "  H3 = sp.special.hyp2f1(1/2, (2. + alpha)/2, 3/2, -((1. + x2)/(1. + x1))**2 )\n",
        "  \n",
        "  H4 = sp.special.hyp2f1((1. + alpha)/2, (2. + alpha)/2, (3. + alpha)/2, -((1. + x2)/(1. + x1))**2 )\n",
        "  \n",
        "  H5 = sp.special.hyp2f1(1/2, (2. + alpha)/2, 3/2, -((1. - x2)/(1. - x1))**2 )\n",
        "  \n",
        "  H6 = sp.special.hyp2f1((1. + alpha)/2, (2. + alpha)/2, (3. + alpha)/2, -((1. - x2)/(1. - x1))**2 )\n",
        "  \n",
        "  H7 = sp.special.hyp2f1(1/2, (2. + alpha)/2, 3/2, -((1. + x2)/(1. - x1))**2 )\n",
        "  \n",
        "  H8 = sp.special.hyp2f1((1. + alpha)/2, (2. + alpha)/2, (3. + alpha)/2, -((1. + x2)/(1. - x1))**2 )\n",
        "  \n",
        "  I = np.sqrt(np.pi) * ( (1. + x2)**(-alpha) + (1. - x2)**(-alpha) ) * sp.special.gamma((1 + alpha)/2) \\\n",
        "  /(alpha * sp.special.gamma(1 + alpha/2)) + \\\n",
        "  (1. + x1)**(-1. - alpha)/(alpha * (1. + alpha)) * ((1. - x2) * ((1. + alpha) * H1 - H2) + \\\n",
        "                                                    (1. + x2) * ((1. + alpha) * H3 - H4) ) + \\\n",
        "  (1. - x1)**(-1. - alpha)/(alpha * (1. + alpha)) * ((1. - x2) * ((1. + alpha) * H5 - H6) + \\\n",
        "                                                    (1. + x2) * ((1. + alpha) * H7 - H8) )\n",
        "  return I"
      ]
    },
    {
      "cell_type": "code",
      "execution_count": null,
      "metadata": {
        "id": "LR0Nscf1dpAG"
      },
      "outputs": [],
      "source": [
        "def wMSE(params, batch):\n",
        "  t, x1, x2 = batch\n",
        "  return jnp.mean( ( batched_udt(params, t, x1, x2) - epsilon * ( 2 * uNN(params, t, x1, x2) + x1 * batched_udx_1(params, t, x1, x2)  + \\\n",
        "                                                                  + x2 * batched_udx_2(params, t, x1, x2) ) + \\\n",
        "  levy_constant * ( batched_discrete_part(params, t, x1, x2) + uNN(params, t, x1, x2) * analytical_part(x1, x2) ) )**2 )"
      ]
    },
    {
      "cell_type": "markdown",
      "metadata": {
        "id": "8n9DM4QJLana"
      },
      "source": [
        "# Hyperparameters"
      ]
    },
    {
      "cell_type": "code",
      "execution_count": null,
      "metadata": {
        "id": "R201Gfw9V_xn"
      },
      "outputs": [],
      "source": [
        "key_init, key0, key1, key2 = random.PRNGKey(12345), random.PRNGKey(5), random.PRNGKey(2), random.PRNGKey(3)\n",
        "key_test = random.PRNGKey(7)\n",
        "\n",
        "sizes = [3, 20, 20, 20, 20, 20, 1]\n",
        "params_len = len(sizes) - 1\n",
        "\n",
        "alpha = 0.5\n",
        "\n",
        "if alpha == 1:\n",
        "  omega0 = 1.950132460000978\n",
        "elif alpha == 1.5:\n",
        "  omega0 = 5.038779739396576\n",
        "elif alpha == 0.5:\n",
        "  omega0 = 0.960844610589965\n",
        "else:\n",
        "  print('no such option')\n",
        "\n",
        "levy_constant = levy_const(alpha)\n",
        "\n",
        "h = 1/50\n",
        "dt = 0.01 \n",
        "T, T_pred = 0.2, 0.21\n",
        "epsilon = 1\n",
        "\n",
        "def step_size(n):\n",
        "  if n < 10**4:\n",
        "    return 10**-3\n",
        "  else:\n",
        "    return 10**-4\n",
        "\n",
        "num_epochs = int(10**5)\n",
        "batch_size = 64"
      ]
    },
    {
      "cell_type": "code",
      "execution_count": null,
      "metadata": {
        "id": "zOU3usoVoJyj"
      },
      "outputs": [],
      "source": [
        "y = jnp.linspace(-1, 1, int(2/h) + 1)\n",
        "Y1, Y2 = jnp.meshgrid(y, y)"
      ]
    },
    {
      "cell_type": "markdown",
      "metadata": {
        "id": "bpFS93itEd0c"
      },
      "source": [
        "# Data Preparation"
      ]
    },
    {
      "cell_type": "code",
      "execution_count": null,
      "metadata": {
        "id": "ac9ac794"
      },
      "outputs": [],
      "source": [
        "def get_batch(batch_size, *keys):\n",
        "  x = jnp.linspace(-1, 1, int(2/h) + 1); x = x.at[1:-1].get()\n",
        "  t = jnp.arange(0, T, dt); t = t.at[1:].get()\n",
        "  return  t.at[random.randint(key = keys[0], shape = (batch_size,), minval = 0, maxval= t.shape[0])].get(), \\\n",
        "          x.at[random.randint(key = keys[1], shape = (batch_size,), minval = 0, maxval= x.shape[0])].get(), \\\n",
        "          x.at[random.randint(key = keys[2], shape = (batch_size,), minval = 0, maxval= x.shape[0])].get()"
      ]
    },
    {
      "cell_type": "code",
      "execution_count": null,
      "metadata": {
        "id": "1AT9eOLb0-BV"
      },
      "outputs": [],
      "source": [
        "def get_test_batch(batch_size, *keys):\n",
        "  x = jnp.linspace(-1, 1, int(2/h) + 1); x = x.at[1:-1].get()\n",
        "  # t = jnp.arange(T, T_pred, dt); t = t.at[1:].get()\n",
        "  return  T_pred * jnp.ones((batch_size,)), \\\n",
        "          x.at[random.randint(key = keys[0], shape = (batch_size,), minval = 0, maxval= x.shape[0])].get(), \\\n",
        "          x.at[random.randint(key = keys[1], shape = (batch_size,), minval = 0, maxval= x.shape[0])].get()"
      ]
    },
    {
      "cell_type": "markdown",
      "metadata": {
        "id": "pN1Gx19zWMPx"
      },
      "source": [
        "# Batched Functions"
      ]
    },
    {
      "cell_type": "code",
      "execution_count": null,
      "metadata": {
        "id": "mpMeAIrNWQiY"
      },
      "outputs": [],
      "source": [
        "batched_udt = vmap(grad(uNN, 1), in_axes= ([(None,None)] * params_len,0,0,0), out_axes = 0)\n",
        "\n",
        "batched_udx_1 = vmap(grad(uNN, 2), in_axes= ([(None,None)] * params_len,0,0,0), out_axes = 0)\n",
        "\n",
        "batched_udx_2 = vmap(grad(uNN, 3), in_axes= ([(None,None)] * params_len,0,0,0), out_axes = 0)\n",
        "\n",
        "batched_discrete_part = vmap(discrete_part, in_axes= ([(None,None)] * params_len,0,0,0), out_axes = 0)"
      ]
    },
    {
      "cell_type": "markdown",
      "metadata": {
        "id": "7c542c5d"
      },
      "source": [
        "# Training by Adam"
      ]
    },
    {
      "cell_type": "code",
      "execution_count": null,
      "metadata": {
        "id": "8JAEN8mNIwAq"
      },
      "outputs": [],
      "source": [
        "def update(i, opt_state, batch):\n",
        "  params = get_params(opt_state)\n",
        "  return update_fun(i, grad(wMSE, 0)(params, batch), opt_state)"
      ]
    },
    {
      "cell_type": "code",
      "execution_count": null,
      "metadata": {
        "id": "lTOsttkJIwD3"
      },
      "outputs": [],
      "source": [
        "init_fun, update_fun, get_params = optimizers.adam(step_size)\n",
        "\n",
        "init_params = init_network_params(sizes, key_init)\n",
        "opt_state = init_fun(init_params)\n",
        "itercount = itertools.count()\n",
        "\n",
        "mse_training_history, mse_test_history = [], []\n"
      ]
    },
    {
      "cell_type": "code",
      "execution_count": null,
      "metadata": {
        "colab": {
          "background_save": true
        },
        "id": "ZQgNd3zcIwHL"
      },
      "outputs": [],
      "source": [
        "print(\"\\n Start training...\")\n",
        "\n",
        "for epoch in tqdm(range(num_epochs)):\n",
        "\n",
        "  key0, subkey0 = random.split(key0)\n",
        "  key1, subkey1 = random.split(key1)\n",
        "  key2, subkey2 = random.split(key2)\n",
        "\n",
        "  batch = get_batch(batch_size, subkey0, subkey1, subkey2)\n",
        "  opt_state = update(next(itercount), opt_state, batch)\n",
        "  params = get_params(opt_state)\n",
        "\n",
        "  if epoch == 0 or (epoch + 1) % 500 == 0:\n",
        "    train_acc = wMSE(params, batch)\n",
        "\n",
        "    # generate test batch\n",
        "    key_test, *sub_key_tests = random.split(key_test, 3)\n",
        "    batch = get_test_batch(batch_size, *sub_key_tests)\n",
        "    test_acc = wMSE(params, batch)\n",
        "\n",
        "    # record history\n",
        "    mse_training_history.append(train_acc)\n",
        "    mse_test_history.append(test_acc)\n",
        "    print(\" MSE train/test {}/{}\".format(train_acc, test_acc))\n",
        "\n"
      ]
    },
    {
      "cell_type": "markdown",
      "metadata": {
        "id": "caa9ef24"
      },
      "source": [
        "# Verification"
      ]
    },
    {
      "cell_type": "code",
      "execution_count": null,
      "metadata": {
        "colab": {
          "background_save": true
        },
        "id": "y23rz6lz9OYa"
      },
      "outputs": [],
      "source": [
        "dx = h\n",
        "dt_ = dx**2/4\n",
        "\n",
        "# meshgrid\n",
        "yt = jnp.linspace(-1, 1, int(2/dx) + 1) # _t for test\n",
        "xt = yt.at[1:-1].get()\n",
        "Yt1, Yt2 = jnp.meshgrid(yt, yt) \n",
        "Xt1, Xt2 = jnp.meshgrid(xt, xt) "
      ]
    },
    {
      "cell_type": "code",
      "execution_count": null,
      "metadata": {
        "colab": {
          "background_save": true
        },
        "id": "dI0ZDIexdaxG"
      },
      "outputs": [],
      "source": [
        "def unravel(U):\n",
        "  N = int(jnp.sqrt(len(U)))\n",
        "  Umat = jnp.empty(shape = (N,N))\n",
        "  for i in range(N):\n",
        "    Umat = Umat.at[i].set(U[i*N:(i+1)*N])\n",
        "  return Umat"
      ]
    },
    {
      "cell_type": "code",
      "execution_count": null,
      "metadata": {
        "colab": {
          "background_save": true
        },
        "id": "3lOGQI19FJWK"
      },
      "outputs": [],
      "source": [
        "def analy_integral(x1, x2):\n",
        "\n",
        "  H1 = sp.special.hyp2f1(1/2, (2. + alpha)/2, 3/2, -((1. - x2)/(1. + x1))**2 )\n",
        "  \n",
        "  H2 = sp.special.hyp2f1((1. + alpha)/2, (2. + alpha)/2, (3. + alpha)/2, -((1. - x2)/(1. + x1))**2 )\n",
        "  \n",
        "  H3 = sp.special.hyp2f1(1/2, (2. + alpha)/2, 3/2, -((1. + x2)/(1. + x1))**2 )\n",
        "  \n",
        "  H4 = sp.special.hyp2f1((1. + alpha)/2, (2. + alpha)/2, (3. + alpha)/2, -((1. + x2)/(1. + x1))**2 )\n",
        "  \n",
        "  H5 = sp.special.hyp2f1(1/2, (2. + alpha)/2, 3/2, -((1. - x2)/(1. - x1))**2 )\n",
        "  \n",
        "  H6 = sp.special.hyp2f1((1. + alpha)/2, (2. + alpha)/2, (3. + alpha)/2, -((1. - x2)/(1. - x1))**2 )\n",
        "  \n",
        "  H7 = sp.special.hyp2f1(1/2, (2. + alpha)/2, 3/2, -((1. + x2)/(1. - x1))**2 )\n",
        "  \n",
        "  H8 = sp.special.hyp2f1((1. + alpha)/2, (2. + alpha)/2, (3. + alpha)/2, -((1. + x2)/(1. - x1))**2 )\n",
        "  \n",
        "  I = np.sqrt(np.pi) * ( (1. + x2)**(-alpha) + (1. - x2)**(-alpha) ) * sp.special.gamma((1 + alpha)/2) \\\n",
        "  /(alpha * sp.special.gamma(1 + alpha/2)) + \\\n",
        "  (1. + x1)**(-1 - alpha)/(alpha * (1. + alpha)) * ((1. - x2) * ((1. + alpha) * H1 - H2) + \\\n",
        "                                                    (1. + x2) * ((1. + alpha) * H3 - H4) ) + \\\n",
        "  (1. - x1)**(-1 - alpha)/(alpha * (1. + alpha)) * ((1. - x2) * ((1. + alpha) * H5 - H6) + \\\n",
        "                                                    (1. + x2) * ((1. + alpha) * H7 - H8) )\n",
        "  return I\n",
        "\n",
        "def get_mat(dx, X1, X2, Y1, Y2):\n",
        "  def discrete_sum(x1, x2):\n",
        "    arr = jnp.sqrt( (Y1 - x1)**2 + (Y2 - x2)**2 )**(2 + alpha)\n",
        "    arr = arr.at[0,:].multiply(2)\n",
        "    arr = arr.at[-1,:].multiply(2)\n",
        "    arr = arr.at[:,0].multiply(2)\n",
        "    arr = arr.at[:,-1].multiply(2)\n",
        "    arr = jnp.where(arr == 0, jnp.inf, arr)\n",
        "    return jnp.sum(1./arr)\n",
        "\n",
        "  batched_discrete_sum = vmap(discrete_sum, in_axes=(0,0), out_axes=0)\n",
        "\n",
        "  def diag_mat(a, b):\n",
        "    return batched_discrete_sum(a, b) * dx**2 + analy_integral(a, b)\n",
        "\n",
        "  def dense_mat(x1, x2):\n",
        "    arr = jnp.sqrt((Y1 - x1)**2 + (Y2 - x2)**2)**(2 + alpha)\n",
        "    arr = jnp.where(arr == 0, jnp.inf, arr)\n",
        "    arr = arr.at[1:-1,1:-1].get() # removing bdry, since U = 0 on bdry.\n",
        "    return jnp.ravel(1./arr)\n",
        "\n",
        "  batched_dense_mat = vmap(dense_mat, in_axes=(0,0), out_axes=0)\n",
        "\n",
        "  # dense part and diag part\n",
        "  M = batched_dense_mat(X1[0], X2[0])\n",
        "  D = diag_mat(X1[0], X2[0])\n",
        "  for a, b in zip(X1[1:], X2[1:]):\n",
        "    M = jnp.concatenate((M, batched_dense_mat(a,b)))\n",
        "    D = jnp.concatenate((D, diag_mat(a,b)))\n",
        "  M = levy_constant * dx**2 * M\n",
        "  D = -levy_constant * jnp.diag(D)\n",
        "  # correction part\n",
        "  E = jnp.zeros_like(M)\n",
        "  N = X1.shape[0]\n",
        "  for k in range(E.shape[0]):\n",
        "    # upper-left corner\n",
        "    if k == 0:\n",
        "      E = E.at[k,[k, k+1, k+2, k+N, k+2*N]].set([2,-2,1,-2,1])\n",
        "    # upper side\n",
        "    elif (k > 0) and (k < N-1): \n",
        "      E = E.at[k,[k-1, k, k+1, k+N, k+2*N]].set([1,-1,1,-2,1])\n",
        "    # upper-right corner\n",
        "    elif k == N-1: \n",
        "      E = E.at[k,[k-2, k-1, k, k+N, k+2*N]].set([1,-2,2,-2,1])\n",
        "    # left side\n",
        "    elif (k % N == 0) and (k > 0) and (k < N**2-N): \n",
        "      E = E.at[k,[k-N, k, k+1, k+2, k+N]].set([1,-1,-2,1,1])\n",
        "    # right side\n",
        "    elif ((k+1) % N == 0) and (k > N-1) and (k < N**2-1): \n",
        "      E = E.at[k,[k-N, k-2, k-1, k, k+N]].set([1,1,-2,-1,1]) \n",
        "    # lower-left corner\n",
        "    elif k == N**2-N:\n",
        "      E = E.at[k,[k-2*N, k-N, k, k+1, k+2]].set([1,-2,2,-2,1]) \n",
        "    # lower side\n",
        "    elif (k > N**2-N) and (k < N**2-1):\n",
        "      E = E.at[k,[k-2*N, k-N, k-1, k, k+1]].set([1,-2,1,-1,1]) \n",
        "    # lower right corner\n",
        "    elif k == N**2-1:\n",
        "      E = E.at[k,[k-2*N, k-N, k-2, k-1, k]].set([1,-2,1,-2,2]) \n",
        "    # internal \n",
        "    else:\n",
        "      E = E.at[k,[k-N, k-1, k, k+1, k+N]].set([1,1,-4,1,1]) \n",
        "    \n",
        "  E = (0.5 * levy_constant * omega0/dx**alpha) * E\n",
        "\n",
        "  # first-order part\n",
        "  F = jnp.zeros_like(M)\n",
        "  raveled_X1, raveled_X2 = jnp.ravel(X1), jnp.ravel(X2)\n",
        "  for k in range(F.shape[0]):\n",
        "    a_i_jm1 = -jnp.minimum(raveled_X2.at[k].get(),0)/dx # (i,j-1)\n",
        "    a_im1_j = -jnp.minimum(raveled_X1.at[k].get(),0)/dx # (i-1,j)\n",
        "    a_i_j = 2 + (jnp.minimum(raveled_X1.at[k].get(),0) + jnp.minimum(raveled_X2.at[k].get(),0) \\\n",
        "                - jnp.maximum(raveled_X1.at[k].get(),0) - jnp.maximum(raveled_X2.at[k].get(),0))/dx # (i,j)\n",
        "    a_ip1_j = jnp.maximum(raveled_X1.at[k].get(),0)/dx # (i+1,j)\n",
        "    a_i_jp1 = jnp.maximum(raveled_X2.at[k].get(),0)/dx # (i,j+1)\n",
        "    # upper-left corner\n",
        "    if k == 0:\n",
        "      F = F.at[k,[k, k+1, k+N]].set([a_i_j, a_ip1_j, a_i_jp1])\n",
        "    # upper side\n",
        "    elif (k > 0) and (k < N-1): \n",
        "      F = F.at[k,[k-1, k, k+1, k+N]].set([a_im1_j, a_i_j, a_ip1_j, a_i_jp1])\n",
        "    # upper-right corner\n",
        "    elif k == N-1: \n",
        "      F = F.at[k,[k-1, k, k+N]].set([a_im1_j, a_i_j, a_i_jp1])\n",
        "    # left side\n",
        "    elif (k % N == 0) and (k > 0) and (k < N**2-N): \n",
        "      F = F.at[k,[k-N, k, k+1, k+N]].set([a_i_jm1, a_i_j, a_ip1_j, a_i_jp1])\n",
        "    # right side\n",
        "    elif ((k+1) % N == 0) and (k > N-1) and (k < N**2-1): \n",
        "      F = F.at[k,[k-N, k-1, k, k+N]].set([a_i_jm1, a_im1_j, a_i_j, a_i_jp1]) \n",
        "    # lower-left corner\n",
        "    elif k == N**2-N:\n",
        "      F = F.at[k,[k-N, k, k+1]].set([a_i_jm1, a_i_j, a_ip1_j]) \n",
        "    # lower side\n",
        "    elif (k > N**2-N) and (k < N**2-1):\n",
        "      F = F.at[k,[k-N, k-1, k, k+1]].set([a_i_jm1, a_im1_j, a_i_j, a_ip1_j]) \n",
        "    # lower right corner\n",
        "    elif k == N**2-1:\n",
        "      F = F.at[k,[k-N, k-1, k]].set([a_i_jm1, a_im1_j, a_i_j]) \n",
        "    # internal \n",
        "    else:\n",
        "      F = F.at[k,[k-N, k-1, k, k+1, k+N]].set([a_i_jm1, a_im1_j, a_i_j, a_ip1_j, a_i_jp1])  \n",
        "  \n",
        "  return M + D + E + epsilon * F"
      ]
    },
    {
      "cell_type": "code",
      "execution_count": null,
      "metadata": {
        "colab": {
          "background_save": true
        },
        "id": "dX6MhfNTFheE"
      },
      "outputs": [],
      "source": [
        "Z = unravel(uNN(params, T_pred, jnp.ravel(Xt1), jnp.ravel(Xt2)))"
      ]
    },
    {
      "cell_type": "code",
      "execution_count": null,
      "metadata": {
        "colab": {
          "background_save": true
        },
        "id": "mtndkEjrFJZ6"
      },
      "outputs": [],
      "source": [
        "steps = int(jnp.round(T_pred/dt_))\n",
        "U = jnp.ravel(init_cond(Xt1,Xt2))\n",
        "A = get_mat(dx, Xt1, Xt2, Yt1, Yt2)\n",
        "for _ in range(steps):\n",
        "  U1 = U + dt_ * jnp.dot(A, U)\n",
        "  U2 = 3/4 * U + 1/4 * U1 + 1/4 * dt_ * jnp.dot(A, U1)\n",
        "  U = 1/3 * U + 2/3 * U2 + 2/3 * dt_ * jnp.dot(A, U2)"
      ]
    },
    {
      "cell_type": "code",
      "execution_count": null,
      "metadata": {
        "colab": {
          "background_save": true
        },
        "id": "cCiF5VFjaUKX"
      },
      "outputs": [],
      "source": [
        "Umat = unravel(U)"
      ]
    },
    {
      "cell_type": "markdown",
      "metadata": {
        "id": "Mhz6ncio1vIh"
      },
      "source": [
        "### Maximum Absolute Error"
      ]
    },
    {
      "cell_type": "code",
      "execution_count": null,
      "metadata": {
        "colab": {
          "background_save": true
        },
        "id": "S3-xf-AcacVJ"
      },
      "outputs": [],
      "source": [
        "fig_max_err = go.Figure(data = go.Contour( z= jnp.abs(Umat - Z), x = xt, y = xt ))\n",
        "fig_max_err.update_layout(title = 'Maximum Absolute Error', autosize = False, width = 500, height = 500)\n",
        "fig_max_err.update_xaxes(title_text='x')\n",
        "fig_max_err.update_yaxes(title_text='y')\n",
        "fig_max_err.show()"
      ]
    },
    {
      "cell_type": "markdown",
      "metadata": {
        "id": "Z7dvHb7n2ITv"
      },
      "source": [
        "### Maximum Relative Error"
      ]
    },
    {
      "cell_type": "code",
      "execution_count": null,
      "metadata": {
        "colab": {
          "background_save": true
        },
        "id": "5bbKw6qW7c_D"
      },
      "outputs": [],
      "source": [
        "fig_r_err = go.Figure(data = go.Contour( z = jnp.log10(jnp.maximum(jnp.abs((Umat - Z)/Umat), 10**-5)), x = xt, y = xt))\n",
        "fig_r_err.update_layout(title = 'Maximum Relative Error', autosize = False, width = 500, height = 500)\n",
        "fig_r_err.update_xaxes(title_text='x')\n",
        "fig_r_err.update_yaxes(title_text='y')\n",
        "fig_r_err.show()"
      ]
    },
    {
      "cell_type": "markdown",
      "metadata": {
        "id": "BOiXXvVh2Rja"
      },
      "source": [
        "### Learning History"
      ]
    },
    {
      "cell_type": "code",
      "execution_count": null,
      "metadata": {
        "colab": {
          "background_save": true
        },
        "id": "Y7xKQlK8RplE"
      },
      "outputs": [],
      "source": [
        "fig_training = go.Figure()\n",
        "fig_training.add_trace(go.Scatter(x = jnp.arange(0,num_epochs,500)+1, y = jnp.log10(jnp.array(mse_training_history)), mode='lines', name='train'))\n",
        "fig_training.add_trace(go.Scatter(x = jnp.arange(0,num_epochs,500)+1, y = jnp.log10(jnp.array(mse_test_history)), mode='lines', name='test'))\n",
        "fig_training.update_layout(title = 'wMSE History', autosize = False, width = 400, height = 400)\n",
        "fig_training.update_xaxes(title_text='epoch')\n",
        "fig_training.update_yaxes(title_text='log10(wMSE)')\n",
        "fig_training.show()"
      ]
    },
    {
      "cell_type": "markdown",
      "metadata": {
        "id": "K11p7iW5WVdP"
      },
      "source": [
        "### L2 relative error"
      ]
    },
    {
      "cell_type": "code",
      "execution_count": null,
      "metadata": {
        "colab": {
          "background_save": true
        },
        "id": "N9NJ7yZH3SKh"
      },
      "outputs": [],
      "source": [
        "L2_rel_err = jnp.sqrt(jnp.sum((uNN(params, T_pred, jnp.ravel(Xt1), jnp.ravel(Xt2)) - U)**2)/jnp.sum(U**2))"
      ]
    },
    {
      "cell_type": "code",
      "execution_count": null,
      "metadata": {
        "colab": {
          "background_save": true
        },
        "id": "Z6gh8vi8YAHn"
      },
      "outputs": [],
      "source": [
        "print(L2_rel_err)"
      ]
    },
    {
      "cell_type": "code",
      "execution_count": null,
      "metadata": {
        "colab": {
          "background_save": true
        },
        "id": "qvBVVQuALMTq"
      },
      "outputs": [],
      "source": [
        ""
      ]
    }
  ],
  "metadata": {
    "accelerator": "GPU",
    "colab": {
      "background_execution": "on",
      "collapsed_sections": [],
      "name": "OU Solver.ipynb",
      "provenance": [],
      "mount_file_id": "1mn_26GV7i3N8TYBwohxySV5ULLgl-rKe",
      "authorship_tag": "ABX9TyOgKh5enp26B3f4leUpJntc",
      "include_colab_link": true
    },
    "kernelspec": {
      "display_name": "Python 3",
      "name": "python3"
    },
    "language_info": {
      "name": "python"
    }
  },
  "nbformat": 4,
  "nbformat_minor": 0
}