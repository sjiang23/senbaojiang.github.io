{
  "nbformat": 4,
  "nbformat_minor": 0,
  "metadata": {
    "colab": {
      "name": "Heat 3D FDM computation.ipynb",
      "provenance": [],
      "collapsed_sections": [
        "QWclFJ05ilAF"
      ],
      "machine_shape": "hm",
      "mount_file_id": "1Ddc6ScuLWyRdgH4eJWBEQtHmK6DJDa7x",
      "authorship_tag": "ABX9TyMB+x3llf/WFnrYmSvkQuZV",
      "include_colab_link": true
    },
    "kernelspec": {
      "name": "python3",
      "display_name": "Python 3"
    },
    "language_info": {
      "name": "python"
    }
  },
  "cells": [
    {
      "cell_type": "markdown",
      "metadata": {
        "id": "view-in-github",
        "colab_type": "text"
      },
      "source": [
        "<a href=\"https://colab.research.google.com/github/sjiang23/senbaojiang.github.io/blob/main/Heat_3D_FDM_computation.ipynb\" target=\"_parent\"><img src=\"https://colab.research.google.com/assets/colab-badge.svg\" alt=\"Open In Colab\"/></a>"
      ]
    },
    {
      "cell_type": "code",
      "execution_count": null,
      "metadata": {
        "id": "cp64u1T8ziKO"
      },
      "outputs": [],
      "source": [
        "import jax.numpy as jnp\n",
        "import jax.scipy as jsp\n",
        "from jax import grad, jit, vmap, jacobian, hessian, jacrev, pmap, lax\n",
        "from jax import random\n",
        "from jax.scipy import optimize\n",
        "from jax.example_libraries import optimizers\n",
        "from functools import partial\n",
        "import numpy as np\n",
        "import scipy as sp\n",
        "from tqdm import tqdm\n",
        "import datetime"
      ]
    },
    {
      "cell_type": "code",
      "execution_count": null,
      "metadata": {
        "id": "zCFNlKFEOzjH"
      },
      "outputs": [],
      "source": [
        "def sigmoid(x):\n",
        "  return 1./(1 + jnp.exp(-x))\n",
        "\n",
        "def init_cond(x1, x2, x3):\n",
        "  return (693/512)**3 * ( (1 - x1**2) * (1 - x2**2) * (1 - x3**2) )**5"
      ]
    },
    {
      "cell_type": "code",
      "execution_count": null,
      "metadata": {
        "id": "bhQ4DfThOzcB"
      },
      "outputs": [],
      "source": [
        "def levy_const(alpha):\n",
        "    return 2**alpha * sp.special.gamma((3+alpha)/2) \\\n",
        "        /( jnp.sqrt(jnp.pi)**3 * jnp.abs(sp.special.gamma(-alpha/2)) )"
      ]
    },
    {
      "cell_type": "code",
      "execution_count": null,
      "metadata": {
        "id": "aUbf1wE6QX_C"
      },
      "outputs": [],
      "source": [
        "def analytical_part(x1, x2, x3):\n",
        "  I = ( jnp.arctan((1 - x3)/jnp.sqrt((1 - x1)**2 + (1 - x2)**2)) + jnp.arctan((1 + x3)/jnp.sqrt((1 - x1)**2 + (1 - x2)**2)) ) \\\n",
        "  * jnp.sqrt((1 - x1)**2 + (1 - x2)**2)/((1 - x1) * (1 - x2)) \\\n",
        "  \\\n",
        "  + ( jnp.arctan((1 - x3)/jnp.sqrt((1 + x1)**2 + (1 - x2)**2)) + jnp.arctan((1 + x3)/jnp.sqrt((1 + x1)**2 + (1 - x2)**2)) ) \\\n",
        "  * jnp.sqrt((1 + x1)**2 + (1 - x2)**2)/((1 + x1) * (1 - x2)) \\\n",
        "  \\\n",
        "  + ( jnp.arctan((1 - x3)/jnp.sqrt((1 + x1)**2 + (1 + x2)**2)) + jnp.arctan((1 + x3)/jnp.sqrt((1 + x1)**2 + (1 + x2)**2)) )\\\n",
        "  * jnp.sqrt((1 + x1)**2 + (1 + x2)**2)/((1 + x1) * (1 + x2)) \\\n",
        "  \\\n",
        "  + ( jnp.arctan((1 - x3)/jnp.sqrt((1 - x1)**2 + (1 + x2)**2)) + jnp.arctan((1 + x3)/jnp.sqrt((1 - x1)**2 + (1 + x2)**2)) )\\\n",
        "  * jnp.sqrt((1 - x1)**2 + (1 + x2)**2)/((1 - x1) * (1 + x2)) \\\n",
        "  \\\n",
        "  \\\n",
        "  + ( jnp.arctan((1 - x2)/jnp.sqrt((1 - x1)**2 + (1 - x3)**2)) + jnp.arctan((1 + x2)/jnp.sqrt((1 - x1)**2 + (1 - x3)**2)) )\\\n",
        "  * jnp.sqrt((1 - x1)**2 + (1 - x3)**2)/((1 - x1) * (1 - x3)) \\\n",
        "  \\\n",
        "  + ( jnp.arctan((1 - x2)/jnp.sqrt((1 + x1)**2 + (1 - x3)**2)) + jnp.arctan((1 + x2)/jnp.sqrt((1 + x1)**2 + (1 - x3)**2)) )\\\n",
        "  * jnp.sqrt((1 + x1)**2 + (1 - x3)**2)/((1 + x1) * (1 - x3)) \\\n",
        "  \\\n",
        "  + ( jnp.arctan((1 - x2)/jnp.sqrt((1 + x1)**2 + (1 + x3)**2)) + jnp.arctan((1 + x2)/jnp.sqrt((1 + x1)**2 + (1 + x3)**2)) )\\\n",
        "  * jnp.sqrt((1 + x1)**2 + (1 + x3)**2)/((1 + x1) * (1 + x3)) \\\n",
        "  \\\n",
        "  + ( jnp.arctan((1 - x2)/jnp.sqrt((1 - x1)**2 + (1 + x3)**2)) + jnp.arctan((1 + x2)/jnp.sqrt((1 - x1)**2 + (1 + x3)**2)) )\\\n",
        "  * jnp.sqrt((1 - x1)**2 + (1 + x3)**2)/((1 - x1) * (1 + x3)) \\\n",
        "  \\\n",
        "  \\\n",
        "  + ( jnp.arctan((1 - x1)/jnp.sqrt((1 - x3)**2 + (1 - x2)**2)) + jnp.arctan((1 + x1)/jnp.sqrt((1 - x3)**2 + (1 - x2)**2)) )\\\n",
        "  * jnp.sqrt((1 - x3)**2 + (1 - x2)**2)/((1 - x3) * (1 - x2)) \\\n",
        "  \\\n",
        "  + ( jnp.arctan((1 - x1)/jnp.sqrt((1 + x3)**2 + (1 - x2)**2)) + jnp.arctan((1 + x1)/jnp.sqrt((1 + x3)**2 + (1 - x2)**2)) )\\\n",
        "  * jnp.sqrt((1 + x3)**2 + (1 - x2)**2)/((1 + x3) * (1 - x2)) \\\n",
        "  \\\n",
        "  + ( jnp.arctan((1 - x1)/jnp.sqrt((1 + x3)**2 + (1 + x2)**2)) + jnp.arctan((1 + x1)/jnp.sqrt((1 + x3)**2 + (1 + x2)**2)) )\\\n",
        "  * jnp.sqrt((1 + x3)**2 + (1 + x2)**2)/((1 + x3) * (1 + x2)) \\\n",
        "  \\\n",
        "  + ( jnp.arctan((1 - x1)/jnp.sqrt((1 - x1)**2 + (1 + x2)**2)) + jnp.arctan((1 + x1)/jnp.sqrt((1 - x3)**2 + (1 + x2)**2)) )\\\n",
        "  * jnp.sqrt((1 - x3)**2 + (1 + x2)**2)/((1 - x3) * (1 + x2))\n",
        "\n",
        "  return I/2"
      ]
    },
    {
      "cell_type": "code",
      "source": [
        "alpha = 1\n",
        "omega0 = 2.97121097252838375756\n",
        "\n",
        "levy_constant = levy_const(alpha)"
      ],
      "metadata": {
        "id": "7IW8zmYP0y3U"
      },
      "execution_count": null,
      "outputs": []
    },
    {
      "cell_type": "markdown",
      "source": [
        "# FDM"
      ],
      "metadata": {
        "id": "QWclFJ05ilAF"
      }
    },
    {
      "cell_type": "code",
      "source": [
        "dx = 1/20\n",
        "dt_ = dx**2/4\n",
        "# meshgrid\n",
        "yt = np.linspace(-1, 1, int(2/dx) + 1) # _t for test\n",
        "xt = yt[1:-1]\n",
        "Yt1, Yt2, Yt3 = np.meshgrid(yt, yt, yt) \n",
        "Xt1, Xt2, Xt3 = np.meshgrid(xt, xt, xt) "
      ],
      "metadata": {
        "id": "V3Adj9uzimsU"
      },
      "execution_count": null,
      "outputs": []
    },
    {
      "cell_type": "code",
      "source": [
        "def unravel(U,d):\n",
        "  if d == 1:\n",
        "    return U\n",
        "  else:\n",
        "    N = int(np.round(len(U)**(1./d)))\n",
        "    Umat = jnp.empty(shape = tuple([N]*d) )\n",
        "    for i in range(N):\n",
        "      Umat = Umat.at[i].set( unravel(U.at[i*N**(d-1):(i+1)*N**(d-1)].get(),d-1) )\n",
        "    return Umat"
      ],
      "metadata": {
        "id": "A6Pas7ASi4Ve"
      },
      "execution_count": null,
      "outputs": []
    },
    {
      "cell_type": "code",
      "source": [
        "def get_matrix_3d(dx, X1, X2, X3, Y1, Y2, Y3):\n",
        "  raveled_X1, raveled_X2, raveled_X3 = np.ravel(X1), np.ravel(X2), np.ravel(X3)\n",
        "  def discrete_sum(x1, x2, x3):\n",
        "    arr = ( (Y1 - x1)**2 + (Y2 - x2)**2 + (Y3 - x3)**2 )**2\n",
        "    arr[0,:,:] = arr[0,:,:] * 2\n",
        "    arr[-1,:,:] = arr[-1,:,:] * 2\n",
        "    arr[:,0,:] = arr[:,0,:] * 2\n",
        "    arr[:,-1,:] = arr[:,-1,:] * 2\n",
        "    arr[:,:,0] = arr[:,:,0] * 2\n",
        "    arr[:,:,-1] = arr[:,:,-1] * 2\n",
        "    arr = np.where(arr == 0, np.inf, arr)\n",
        "    return np.sum(1./arr)\n",
        "\n",
        "  def dense_mat(x1, x2, x3):\n",
        "    arr = ((Y1 - x1)**2 + (Y2 - x2)**2 + (Y3 - x3)**2 )**2\n",
        "    arr = np.where(arr == 0, np.inf, arr)\n",
        "    arr = arr[1:-1,1:-1,1:-1]\n",
        "    return np.ravel(1./arr)\n",
        "\n",
        "  # dense part\n",
        "  M = np.zeros(shape = (X1.size, X1.size))\n",
        "  for k in tqdm(range(X1.size)):\n",
        "    M[k] = levy_constant * dx**3 * dense_mat(raveled_X1[k], raveled_X2[k], raveled_X3[k])\n",
        "\n",
        "  # diag part\n",
        "  for k in tqdm(range(X1.size)):\n",
        "    M[k,k] = M[k,k] - levy_constant * (discrete_sum(raveled_X1[k],raveled_X2[k],raveled_X3[k]) * dx**3  \\\n",
        "                                       + analytical_part(raveled_X1[k],raveled_X2[k],raveled_X3[k]))\n",
        "  \n",
        "  # corr part\n",
        "  N = X1.shape[0]\n",
        "  left_end, right_end = X1.min(), X1.max()\n",
        "  for k in tqdm(range(X1.size)):\n",
        "    x1, x2, x3 = raveled_X1[k], raveled_X2[k], raveled_X3[k]\n",
        "    E = np.zeros(shape = (X1.size,))\n",
        "    # 1\n",
        "    if (x1 == left_end) and (x2 == left_end) and (x3 == left_end):\n",
        "      # E = E.at[jnp.array([k, k+1, k+2, k+N, k+2*N, k+N**2, k+2*N**2])].set([3,-2,1,-2,1,-2,1])\n",
        "      E[[k, k+1, k+2, k+N, k+2*N, k+N**2, k+2*N**2]] = [3,-2,1,-2,1,-2,1]\n",
        "    # 2\n",
        "    elif (x1 == left_end) and (x2 == left_end) and (x3 > left_end) and (x3 < right_end):\n",
        "      # E = E.at[jnp.array([k-1, k, k+1, k+N, k+2*N, k+N**2, k+2*N**2])].set([1,0,1,-2,1,-2,1])\n",
        "      E[[k-1, k, k+1, k+N, k+2*N, k+N**2, k+2*N**2]] = [1,0,1,-2,1,-2,1]\n",
        "    # 3\n",
        "    elif (x1 == left_end) and (x2 == left_end) and (x3 == right_end): \n",
        "      # E = E.at[jnp.array([k-2, k-1, k, k+N, k+2*N, k+N**2, k+2*N**2])].set([1,-2,3,-2,1,-2,1])\n",
        "      E[[k-2, k-1, k, k+N, k+2*N, k+N**2, k+2*N**2]] = [1,-2,3,-2,1,-2,1]\n",
        "    # 4\n",
        "    elif (x1 > left_end) and (x1 < right_end) and (x2 == left_end) and (x3 == left_end): \n",
        "      # E = E.at[jnp.array([k-N, k, k+1, k+2, k+N, k+N**2, k+2*N**2])].set([1,0,-2,1,1,-2,1])\n",
        "      E[[k-N, k, k+1, k+2, k+N, k+N**2, k+2*N**2]] = [1,0,-2,1,1,-2,1]\n",
        "    # 5\n",
        "    elif (x1 > left_end) and (x1 < right_end) and (x2 == left_end) and (x3 > left_end) and (x3 < right_end): \n",
        "      # E = E.at[jnp.array([k-N, k-1, k, k+1, k+N, k+N**2, k+2*N**2])].set([1,1,-3,1,1,-2,1]) \n",
        "      E[[k-N, k-1, k, k+1, k+N, k+N**2, k+2*N**2]] = [1,1,-3,1,1,-2,1]\n",
        "    # 6\n",
        "    elif (x1 > left_end) and (x1 < right_end) and (x2 == left_end) and (x3 == right_end):\n",
        "      # E = E.at[jnp.array([k-N, k-2, k-1, k, k+N, k+N**2, k+2*N**2])].set([1,1,-2,0,1,-2,1])\n",
        "      E[[k-N, k-2, k-1, k, k+N, k+N**2, k+2*N**2]] = [1,1,-2,0,1,-2,1]\n",
        "    # 7\n",
        "    elif (x1 == right_end) and (x2 == left_end) and (x3 == left_end): \n",
        "      # E = E.at[jnp.array([k-2*N, k-N, k, k+1, k+2, k+N**2, k+2*N**2])].set([1,-2,3,-2,1,-2,1]) \n",
        "      E[[k-2*N, k-N, k, k+1, k+2, k+N**2, k+2*N**2]] = [1,-2,3,-2,1,-2,1]\n",
        "    # 8\n",
        "    elif (x1 == right_end) and (x2 == left_end) and (x3 > left_end) and (x3 < right_end):\n",
        "      # E = E.at[jnp.array([k-2*N, k-N, k-1, k, k+1, k+N**2, k+2*N**2])].set([1,-2,1,0,1,-2,1]) \n",
        "      E[[k-2*N, k-N, k-1, k, k+1, k+N**2, k+2*N**2]] = [1,-2,1,0,1,-2,1]\n",
        "    # 9\n",
        "    elif (x1 == right_end) and (x2 == left_end) and (x3 == right_end):\n",
        "      # E = E.at[jnp.array([k-2*N, k-N, k-2, k-1, k, k+N**2, k+2*N**2])].set([1,-2,1,-2,3,-2,1])\n",
        "      E[[k-2*N, k-N, k-2, k-1, k, k+N**2, k+2*N**2]] = [1,-2,1,-2,3,-2,1]\n",
        "    # 10\n",
        "    elif (x1 == left_end) and (x2 > left_end) and (x2 < right_end) and (x3 == left_end):\n",
        "      # E = E.at[jnp.array([k-N**2, k, k+1, k+2, k+N, k+2*N, k+N**2])].set([1,0,-2,1,-2,1,1])\n",
        "      E[[k-N**2, k, k+1, k+2, k+N, k+2*N, k+N**2]] = [1,0,-2,1,-2,1,1]\n",
        "    # 11\n",
        "    elif (x1 == left_end) and (x2 > left_end) and (x2 < right_end) and (x3 > left_end) and (x3 < right_end):\n",
        "      # E = E.at[jnp.array([k-N**2, k-1, k, k+1, k+N, k+2*N, k+N**2])].set([1,1,-3,1,-2,1,1])\n",
        "      E[[k-N**2, k-1, k, k+1, k+N, k+2*N, k+N**2]] = [1,1,-3,1,-2,1,1]\n",
        "    # 12\n",
        "    elif (x1 == left_end) and (x2 > left_end) and (x2 < right_end) and (x3 == right_end):\n",
        "      # E = E.at[jnp.array([k-N**2, k-2, k-1, k, k+N, k+2*N, k+N**2])].set([1,1,-2,0,-2,1,1]) \n",
        "      E[[k-N**2, k-2, k-1, k, k+N, k+2*N, k+N**2]] = [1,1,-2,0,-2,1,1]\n",
        "    # 13\n",
        "    elif (x1 > left_end) and (x1 < right_end) and (x2 > left_end) and (x2 < right_end) and (x3 == left_end):\n",
        "      # E = E.at[jnp.array([k-N**2, k-N, k, k+1, k+2, k+N, k+N**2])].set([1,1,-3,-2,1,1,1]) \n",
        "      E[[k-N**2, k-N, k, k+1, k+2, k+N, k+N**2]] = [1,1,-3,-2,1,1,1]\n",
        "    # 15\n",
        "    elif (x1 > left_end) and (x1 < right_end) and (x2 > left_end) and (x2 < right_end) and (x3 == right_end):\n",
        "      # E = E.at[jnp.array([k-N**2, k-N, k-2, k-1, k, k+N, k+N**2])].set([1,1,1,-2,-3,1,1]) \n",
        "      E[[k-N**2, k-N, k-2, k-1, k, k+N, k+N**2]] = [1,1,1,-2,-3,1,1]\n",
        "    # 16\n",
        "    elif (x1 == right_end) and (x2 > left_end) and (x2 < right_end) and (x3 == left_end):\n",
        "      # E = E.at[jnp.array([k-N**2, k-2*N, k-N, k, k+1, k+2, k+N**2])].set([1,1,-2,0,-2,1,1])\n",
        "      E[[k-N**2, k-2*N, k-N, k, k+1, k+2, k+N**2]] = [1,1,-2,0,-2,1,1]\n",
        "    # 17\n",
        "    elif (x1 == right_end) and (x2 > left_end) and (x2 < right_end) and (x3 > left_end) and (x3 < right_end):\n",
        "      # E = E.at[jnp.array([k-N**2, k-2*N, k-N, k-1, k, k+1, k+N**2])].set([1,1,-2,1,-3,1,1]) \n",
        "      E[[k-N**2, k-2*N, k-N, k-1, k, k+1, k+N**2]] = [1,1,-2,1,-3,1,1]\n",
        "    # 18\n",
        "    elif (x1 == right_end) and (x2 > left_end) and (x2 < right_end) and (x3 == right_end):\n",
        "      # E = E.at[jnp.array([k-N**2, k-2*N, k-N, k-2, k-1, k, k+N**2])].set([1,1,-2,1,-2,0,1]) \n",
        "      E[[k-N**2, k-2*N, k-N, k-2, k-1, k, k+N**2]] = [1,1,-2,1,-2,0,1]\n",
        "    # 19\n",
        "    elif (x1 == left_end) and (x2 == right_end) and (x3 == left_end):\n",
        "      # E = E.at[jnp.array([k-2*N**2, k-N**2, k, k+1, k+2, k+N, k+2*N])].set([1,-2,3,-2,1,-2,1])\n",
        "      E[[k-2*N**2, k-N**2, k, k+1, k+2, k+N, k+2*N]] = [1,-2,3,-2,1,-2,1]\n",
        "    # 20\n",
        "    elif (x1 == left_end) and (x2 == right_end) and (x3 > left_end) and (x3 < right_end):\n",
        "      # E = E.at[jnp.array([k-2*N**2, k-N**2, k-1, k, k+1, k+N, k+2*N])].set([1,-2,1,0,1,-2,1])\n",
        "      E[[k-2*N**2, k-N**2, k-1, k, k+1, k+N, k+2*N]] = [1,-2,1,0,1,-2,1]\n",
        "    # 21 \n",
        "    elif (x1 == left_end) and (x2 == right_end) and (x3 == right_end):\n",
        "      # E = E.at[jnp.array([k-2*N**2, k-N**2, k-2, k-1, k, k+N, k+2*N])].set([1,-2,1,-2,3,-2,1])\n",
        "      E[[k-2*N**2, k-N**2, k-2, k-1, k, k+N, k+2*N]] = [1,-2,1,-2,3,-2,1]\n",
        "    # 22\n",
        "    elif (x1 > left_end) and (x1 < right_end) and (x2 == right_end) and (x3 == left_end):\n",
        "      # E = E.at[jnp.array([k-2*N**2, k-N**2, k-N, k, k+1, k+2, k+N])].set([1,-2,1,0,-2,1,1])\n",
        "      E[[k-2*N**2, k-N**2, k-N, k, k+1, k+2, k+N]] = [1,-2,1,0,-2,1,1]\n",
        "    # 23\n",
        "    elif (x1 > left_end) and (x1 < right_end) and (x2 == right_end) and (x3 > left_end) and (x3 < right_end):\n",
        "      # E = E.at[jnp.array([k-2*N**2, k-N**2, k-N, k-1, k, k+1, k+N])].set([1,-2,1,1,-3,1,1])\n",
        "      E[[k-2*N**2, k-N**2, k-N, k-1, k, k+1, k+N]] = [1,-2,1,1,-3,1,1]\n",
        "    # 24\n",
        "    elif (x1 > left_end) and (x1 < right_end) and (x2 == right_end) and (x3 == right_end):\n",
        "      # E = E.at[jnp.array([k-2*N**2, k-N**2, k-N, k-2, k-1, k, k+N])].set([1,-2,1,1,-2,0,1])\n",
        "      E[[k-2*N**2, k-N**2, k-N, k-2, k-1, k, k+N]] = [1,-2,1,1,-2,0,1]\n",
        "    # 25\n",
        "    elif (x1 == right_end) and (x2 == right_end) and (x3 == left_end):\n",
        "      # E = E.at[jnp.array([k-2*N**2, k-N**2, k-2*N, k-N, k, k+1, k+2])].set([1,-2,1,-2,3,-2,1])\n",
        "      E[[k-2*N**2, k-N**2, k-2*N, k-N, k, k+1, k+2]] = [1,-2,1,-2,3,-2,1]\n",
        "    # 26\n",
        "    elif (x1 == right_end) and (x2 == right_end) and (x3 > left_end) and (x3 < right_end):\n",
        "      # E = E.at[jnp.array([k-2*N**2, k-N**2, k-2*N, k-N, k-1, k, k+1])].set([1,-2,1,-2,1,0,1])\n",
        "      E[[k-2*N**2, k-N**2, k-2*N, k-N, k-1, k, k+1]]= [1,-2,1,-2,1,0,1]\n",
        "    # 27\n",
        "    elif (x1 == right_end) and (x2 == right_end) and (x3 == right_end):\n",
        "      # E = E.at[jnp.array([k-2*N**2, k-N**2, k-2*N, k-N, k-2, k-1, k])].set([1,-2,1,-2,1,-2,3])\n",
        "      E[[k-2*N**2, k-N**2, k-2*N, k-N, k-2, k-1, k]] = [1,-2,1,-2,1,-2,3]\n",
        "    # 14 (internal points)\n",
        "    else:\n",
        "      # E = E.at[jnp.array([k-N**2, k-N, k-1, k, k+1, k+N, k+N**2])].set([1, 1, 1, -6, 1, 1, 1]) \n",
        "      E[[k-N**2, k-N, k-1, k, k+1, k+N, k+N**2]] = [1, 1, 1, -6, 1, 1, 1]\n",
        "    \n",
        "    M[k] = M[k] + (0.5 * levy_constant * omega0/dx) * E\n",
        "  \n",
        "  return M  \n"
      ],
      "metadata": {
        "id": "XzLV_vOBZzHq"
      },
      "execution_count": null,
      "outputs": []
    },
    {
      "cell_type": "code",
      "source": [
        "M = get_matrix_3d(dx, Xt1, Xt2, Xt3, Yt1, Yt2, Yt3)"
      ],
      "metadata": {
        "id": "5D39uGashM6e"
      },
      "execution_count": null,
      "outputs": []
    },
    {
      "cell_type": "code",
      "source": [
        "np.save('/content/drive/MyDrive/Colab Notebooks/Fokker-Planck Equations/Absorbing Boundary/Experiment Data/Heat 3D/Ref_mat_{0}_alpha_{1}_dx_{2}.npy'\\\n",
        "         .format(datetime.date.today(),alpha, dx), \\\n",
        "         M, allow_pickle = True)"
      ],
      "metadata": {
        "id": "MepZlphMHWrj"
      },
      "execution_count": null,
      "outputs": []
    },
    {
      "cell_type": "markdown",
      "source": [
        "# Reference Solution Computation"
      ],
      "metadata": {
        "id": "xAMAgfPSCh8L"
      }
    },
    {
      "cell_type": "code",
      "source": [
        "dx = 1/20\n",
        "dt_ = dx**2/4\n",
        "T_preds = jnp.linspace(0.2,0.25,6)\n",
        "# meshgrid\n",
        "yt = np.linspace(-1, 1, int(2/dx) + 1) # _t for test\n",
        "xt = yt[1:-1]\n",
        "Yt1, Yt2, Yt3 = np.meshgrid(yt, yt, yt) \n",
        "Xt1, Xt2, Xt3 = np.meshgrid(xt, xt, xt) "
      ],
      "metadata": {
        "id": "oHquCiaBDtiv"
      },
      "execution_count": null,
      "outputs": []
    },
    {
      "cell_type": "code",
      "source": [
        "A = jnp.load('/content/drive/MyDrive/Colab Notebooks/Fokker-Planck Equations/Absorbing Boundary/Heat 3D/Experiments/Ref_mat_2022-03-23_alpha_1_dx_0.05.npy', allow_pickle = True)"
      ],
      "metadata": {
        "id": "9qsBm2nUCr-M"
      },
      "execution_count": null,
      "outputs": []
    },
    {
      "cell_type": "code",
      "source": [
        "for T_pred in T_preds:\n",
        "  print(T_pred)\n",
        "  steps = int(jnp.round(T_pred/dt_))\n",
        "  U = jnp.ravel(init_cond(Xt1,Xt2,Xt3))\n",
        "  for _ in tqdm((range(steps))):\n",
        "    U1 = U + dt_ * jnp.dot(A, U)\n",
        "    U2 = 3/4 * U + 1/4 * U1 + 1/4 * dt_ * jnp.dot(A, U1)\n",
        "    U = 1/3 * U + 2/3 * U2 + 2/3 * dt_ * jnp.dot(A, U2)\n",
        "  jnp.save('/content/drive/MyDrive/Colab Notebooks/Fokker-Planck Equations/Absorbing Boundary/Heat 3D/Experiments/OU_3D_ref_sol_T_{}.npy'\\\n",
        "         .format(T_pred), U, allow_pickle = True)"
      ],
      "metadata": {
        "id": "RXcNR517u0yA"
      },
      "execution_count": null,
      "outputs": []
    },
    {
      "cell_type": "code",
      "source": [
        "steps = int(jnp.round(T_pred/dt_))\n",
        "U = jnp.ravel(init_cond(Xt1,Xt2,Xt3))"
      ],
      "metadata": {
        "id": "TQinleRsaKVd"
      },
      "execution_count": null,
      "outputs": []
    },
    {
      "cell_type": "code",
      "source": [
        "for _ in tqdm((range(steps))):\n",
        "  U1 = U + dt_ * jnp.dot(A, U)\n",
        "  U2 = 3/4 * U + 1/4 * U1 + 1/4 * dt_ * jnp.dot(A, U1)\n",
        "  U = 1/3 * U + 2/3 * U2 + 2/3 * dt_ * jnp.dot(A, U2)"
      ],
      "metadata": {
        "id": "SC2Y1CCmjH1b"
      },
      "execution_count": null,
      "outputs": []
    },
    {
      "cell_type": "code",
      "source": [
        "jnp.save('/content/drive/MyDrive/Colab Notebooks/Fokker-Planck Equations/Absorbing Boundary/Heat 3D/Experiments/OU_3D_ref_sol_T_{}.npy'\\\n",
        "         .format(T_pred), U, allow_pickle = True)"
      ],
      "metadata": {
        "id": "slm9Pi64HWoO"
      },
      "execution_count": null,
      "outputs": []
    },
    {
      "cell_type": "code",
      "source": [
        ""
      ],
      "metadata": {
        "id": "dAyXh5ECHWkp"
      },
      "execution_count": null,
      "outputs": []
    },
    {
      "cell_type": "code",
      "source": [
        ""
      ],
      "metadata": {
        "id": "CjE2sstOaKJE"
      },
      "execution_count": null,
      "outputs": []
    },
    {
      "cell_type": "code",
      "source": [
        ""
      ],
      "metadata": {
        "id": "hAO_5Ej0aKGY"
      },
      "execution_count": null,
      "outputs": []
    }
  ]
}